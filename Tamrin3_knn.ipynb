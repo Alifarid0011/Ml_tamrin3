{
 "cells": [
  {
   "cell_type": "code",
   "execution_count": 41,
   "metadata": {
    "collapsed": true
   },
   "outputs": [],
   "source": [
    "import pandas as pd\n",
    "import matplotlib.pyplot as plt\n",
    "from sklearn import metrics\n",
    "from sklearn.neighbors import KNeighborsClassifier\n",
    "import os\n",
    "import scipy.stats as stats\n",
    "from sklearn.metrics import f1_score,recall_score,precision_score\n",
    "import numpy as np"
   ]
  },
  {
   "cell_type": "code",
   "execution_count": 38,
   "outputs": [
    {
     "name": "stdout",
     "output_type": "stream",
     "text": [
      "List of file names:\n",
      "['A1.txt', 'A2.txt', 'A3.txt', 'B1.txt', 'B2.txt', 'B3.txt', 'C1.txt', 'C2.txt', 'C3.txt', 'D1.txt', 'D2.txt', 'D3.txt', 'E1.txt', 'E2.txt', 'E3.txt', 'J1.txt', 'J2.txt', 'J3.txt', 'K1.txt', 'K2.txt', 'K3.txt']\n",
      "cont of files: 21\n"
     ]
    }
   ],
   "source": [
    "ListOfTrainFiles = [name for name in sorted(list(os.listdir(\"Train\"))) if \".txt\" in name]\n",
    "print(\"List of file names:\")\n",
    "print(ListOfTrainFiles)\n",
    "print(f\"cont of files: {len(ListOfTrainFiles)}\")"
   ],
   "metadata": {
    "collapsed": false,
    "pycharm": {
     "name": "#%%\n"
    }
   }
  },
  {
   "cell_type": "code",
   "execution_count": 3,
   "outputs": [],
   "source": [
    "def dataset(test=False,list_files=ListOfTrainFiles):\n",
    "    data = []\n",
    "    for fileName in list_files:\n",
    "        if test :\n",
    "           with open(f\"Test/{fileName}\") as file:\n",
    "                file = file.read()\n",
    "                file = file.replace(\".\", \"0\")\n",
    "                file = file.replace(\"#\", \"9\")\n",
    "                file = file.replace(\"@\", \"6\")\n",
    "                file = file.replace(\"o\", \"4\")\n",
    "\n",
    "        else:\n",
    "            with open(f\"Train/{fileName}\") as file:\n",
    "                file = file.read()\n",
    "                file = file.replace(\".\", \"0\")\n",
    "                file = file.replace(\"#\", \"9\")\n",
    "        file = file.split(\"\\n\")\n",
    "        char_dataframe = pd.DataFrame(list(map(int, str(row))) for row in file)\n",
    "        sum_column = char_dataframe.sum(axis=0)\n",
    "        sum_row = char_dataframe.sum(axis=1)\n",
    "        data.append(list(sum_column)+list(sum_row)+list(fileName[0]))\n",
    "    return data"
   ],
   "metadata": {
    "collapsed": false,
    "pycharm": {
     "name": "#%%\n"
    }
   }
  },
  {
   "cell_type": "code",
   "execution_count": 4,
   "outputs": [
    {
     "data": {
      "text/plain": "[[9, 36, 45, 36, 36, 36, 9, 18, 9, 9, 18, 18, 45, 18, 18, 54, 'A'],\n [0, 36, 27, 36, 27, 36, 0, 9, 9, 9, 18, 18, 18, 45, 18, 18, 'A'],\n [27, 27, 27, 27, 27, 27, 27, 9, 9, 18, 18, 18, 45, 18, 18, 36, 'A'],\n [18, 81, 27, 27, 27, 27, 54, 54, 18, 18, 18, 45, 18, 18, 18, 54, 'B'],\n [81, 27, 27, 27, 27, 27, 54, 54, 18, 18, 18, 54, 18, 18, 18, 54, 'B'],\n [18, 81, 27, 27, 27, 27, 54, 54, 18, 18, 45, 18, 18, 18, 18, 54, 'B'],\n [0, 63, 18, 18, 18, 18, 27, 45, 18, 9, 9, 9, 9, 9, 18, 36, 'C'],\n [45, 18, 18, 18, 18, 18, 18, 27, 18, 18, 9, 9, 9, 18, 18, 27, 'C'],\n [45, 18, 18, 18, 18, 18, 36, 36, 27, 18, 9, 9, 9, 18, 18, 27, 'C'],\n [18, 81, 18, 18, 18, 18, 45, 45, 18, 18, 18, 18, 18, 18, 18, 45, 'D'],\n [81, 18, 18, 18, 18, 18, 45, 45, 18, 18, 18, 18, 18, 18, 18, 45, 'D'],\n [18, 81, 18, 18, 18, 18, 45, 45, 18, 18, 18, 18, 18, 18, 18, 45, 'D'],\n [18, 81, 27, 45, 18, 18, 36, 63, 18, 9, 18, 27, 18, 9, 18, 63, 'E'],\n [81, 27, 27, 27, 27, 18, 18, 63, 9, 9, 9, 45, 9, 9, 9, 63, 'E'],\n [18, 81, 27, 27, 45, 18, 36, 63, 18, 18, 36, 18, 9, 9, 18, 63, 'E'],\n [0, 18, 9, 18, 18, 72, 9, 36, 9, 9, 9, 9, 9, 18, 18, 27, 'J'],\n [0, 18, 9, 9, 9, 72, 0, 9, 9, 9, 9, 9, 9, 18, 18, 27, 'J'],\n [0, 9, 9, 9, 18, 72, 9, 27, 9, 9, 9, 9, 9, 9, 18, 27, 'J'],\n [18, 81, 36, 27, 18, 27, 18, 54, 18, 18, 18, 18, 18, 18, 18, 45, 'K'],\n [81, 9, 18, 18, 18, 18, 0, 18, 18, 18, 18, 18, 18, 18, 18, 18, 'K'],\n [18, 81, 27, 18, 18, 36, 18, 45, 18, 18, 18, 18, 18, 18, 18, 45, 'K']]"
     },
     "execution_count": 4,
     "metadata": {},
     "output_type": "execute_result"
    }
   ],
   "source": [
    "dataset()"
   ],
   "metadata": {
    "collapsed": false,
    "pycharm": {
     "name": "#%%\n"
    }
   }
  },
  {
   "cell_type": "markdown",
   "source": [
    "# sum of columns = SOC\n",
    "# sum of rows = SOR"
   ],
   "metadata": {
    "collapsed": false,
    "pycharm": {
     "name": "#%% md\n"
    }
   }
  },
  {
   "cell_type": "code",
   "execution_count": 5,
   "outputs": [
    {
     "data": {
      "text/plain": "   SOC-1  SOC-2  SOC-3  SOC-4  SOC-5  SOC-6  SOC-7  SOR-1  SOR-2  SOR-3  \\\n0      9     36     45     36     36     36      9     18      9      9   \n1      0     36     27     36     27     36      0      9      9      9   \n2     27     27     27     27     27     27     27      9      9     18   \n3     18     81     27     27     27     27     54     54     18     18   \n4     81     27     27     27     27     27     54     54     18     18   \n\n   SOR-4  SOR-5  SOR-6  SOR-7  SOR-8  SOR-9 Label  \n0     18     18     45     18     18     54     A  \n1     18     18     18     45     18     18     A  \n2     18     18     45     18     18     36     A  \n3     18     45     18     18     18     54     B  \n4     18     54     18     18     18     54     B  ",
      "text/html": "<div>\n<style scoped>\n    .dataframe tbody tr th:only-of-type {\n        vertical-align: middle;\n    }\n\n    .dataframe tbody tr th {\n        vertical-align: top;\n    }\n\n    .dataframe thead th {\n        text-align: right;\n    }\n</style>\n<table border=\"1\" class=\"dataframe\">\n  <thead>\n    <tr style=\"text-align: right;\">\n      <th></th>\n      <th>SOC-1</th>\n      <th>SOC-2</th>\n      <th>SOC-3</th>\n      <th>SOC-4</th>\n      <th>SOC-5</th>\n      <th>SOC-6</th>\n      <th>SOC-7</th>\n      <th>SOR-1</th>\n      <th>SOR-2</th>\n      <th>SOR-3</th>\n      <th>SOR-4</th>\n      <th>SOR-5</th>\n      <th>SOR-6</th>\n      <th>SOR-7</th>\n      <th>SOR-8</th>\n      <th>SOR-9</th>\n      <th>Label</th>\n    </tr>\n  </thead>\n  <tbody>\n    <tr>\n      <th>0</th>\n      <td>9</td>\n      <td>36</td>\n      <td>45</td>\n      <td>36</td>\n      <td>36</td>\n      <td>36</td>\n      <td>9</td>\n      <td>18</td>\n      <td>9</td>\n      <td>9</td>\n      <td>18</td>\n      <td>18</td>\n      <td>45</td>\n      <td>18</td>\n      <td>18</td>\n      <td>54</td>\n      <td>A</td>\n    </tr>\n    <tr>\n      <th>1</th>\n      <td>0</td>\n      <td>36</td>\n      <td>27</td>\n      <td>36</td>\n      <td>27</td>\n      <td>36</td>\n      <td>0</td>\n      <td>9</td>\n      <td>9</td>\n      <td>9</td>\n      <td>18</td>\n      <td>18</td>\n      <td>18</td>\n      <td>45</td>\n      <td>18</td>\n      <td>18</td>\n      <td>A</td>\n    </tr>\n    <tr>\n      <th>2</th>\n      <td>27</td>\n      <td>27</td>\n      <td>27</td>\n      <td>27</td>\n      <td>27</td>\n      <td>27</td>\n      <td>27</td>\n      <td>9</td>\n      <td>9</td>\n      <td>18</td>\n      <td>18</td>\n      <td>18</td>\n      <td>45</td>\n      <td>18</td>\n      <td>18</td>\n      <td>36</td>\n      <td>A</td>\n    </tr>\n    <tr>\n      <th>3</th>\n      <td>18</td>\n      <td>81</td>\n      <td>27</td>\n      <td>27</td>\n      <td>27</td>\n      <td>27</td>\n      <td>54</td>\n      <td>54</td>\n      <td>18</td>\n      <td>18</td>\n      <td>18</td>\n      <td>45</td>\n      <td>18</td>\n      <td>18</td>\n      <td>18</td>\n      <td>54</td>\n      <td>B</td>\n    </tr>\n    <tr>\n      <th>4</th>\n      <td>81</td>\n      <td>27</td>\n      <td>27</td>\n      <td>27</td>\n      <td>27</td>\n      <td>27</td>\n      <td>54</td>\n      <td>54</td>\n      <td>18</td>\n      <td>18</td>\n      <td>18</td>\n      <td>54</td>\n      <td>18</td>\n      <td>18</td>\n      <td>18</td>\n      <td>54</td>\n      <td>B</td>\n    </tr>\n  </tbody>\n</table>\n</div>"
     },
     "execution_count": 5,
     "metadata": {},
     "output_type": "execute_result"
    }
   ],
   "source": [
    "columns=  [f\"SOC-{x}\" for x in range(1,8)] + [ f\"SOR-{x}\" for x in range(1,10)] +[\"Label\"]\n",
    "df=pd.DataFrame(dataset(),columns=columns)\n",
    "df.head()"
   ],
   "metadata": {
    "collapsed": false,
    "pycharm": {
     "name": "#%%\n"
    }
   }
  },
  {
   "cell_type": "code",
   "execution_count": 6,
   "outputs": [
    {
     "data": {
      "text/plain": "      SOC-1     SOC-2     SOC-3     SOC-4     SOC-5     SOC-6     SOC-7  \\\n0 -0.679948 -0.351048  2.587097  1.496264  1.788854  0.307784 -0.970703   \n1 -0.997257 -0.351048  0.497519  1.496264  0.614919  0.307784 -1.467893   \n2 -0.045330 -0.658216  0.497519  0.448879  0.614919 -0.189405  0.023676   \n3 -0.362639  1.184788  0.497519  0.448879  0.614919 -0.189405  1.515244   \n4  1.858523 -0.658216  0.497519  0.448879  0.614919 -0.189405  1.515244   \n\n      SOR-1     SOR-2     SOR-3     SOR-4     SOR-5     SOR-6     SOR-7  \\\n0 -1.176038 -1.305582 -1.274755  0.098058 -0.172929  2.791989  0.117444   \n1 -1.680054 -1.305582 -1.274755  0.098058 -0.172929  0.085907  3.816931   \n2 -1.680054 -1.305582  0.784465  0.098058 -0.172929  2.791989  0.117444   \n3  0.840027  0.522233  0.784465  0.098058  2.005972  0.085907  0.117444   \n4  0.840027  0.522233  0.784465  0.098058  2.732272  0.085907  0.117444   \n\n      SOR-8     SOR-9 Label  \n0  0.223607  0.869652     A  \n1  0.223607 -1.649340     A  \n2  0.223607 -0.389844     A  \n3  0.223607  0.869652     B  \n4  0.223607  0.869652     B  ",
      "text/html": "<div>\n<style scoped>\n    .dataframe tbody tr th:only-of-type {\n        vertical-align: middle;\n    }\n\n    .dataframe tbody tr th {\n        vertical-align: top;\n    }\n\n    .dataframe thead th {\n        text-align: right;\n    }\n</style>\n<table border=\"1\" class=\"dataframe\">\n  <thead>\n    <tr style=\"text-align: right;\">\n      <th></th>\n      <th>SOC-1</th>\n      <th>SOC-2</th>\n      <th>SOC-3</th>\n      <th>SOC-4</th>\n      <th>SOC-5</th>\n      <th>SOC-6</th>\n      <th>SOC-7</th>\n      <th>SOR-1</th>\n      <th>SOR-2</th>\n      <th>SOR-3</th>\n      <th>SOR-4</th>\n      <th>SOR-5</th>\n      <th>SOR-6</th>\n      <th>SOR-7</th>\n      <th>SOR-8</th>\n      <th>SOR-9</th>\n      <th>Label</th>\n    </tr>\n  </thead>\n  <tbody>\n    <tr>\n      <th>0</th>\n      <td>-0.679948</td>\n      <td>-0.351048</td>\n      <td>2.587097</td>\n      <td>1.496264</td>\n      <td>1.788854</td>\n      <td>0.307784</td>\n      <td>-0.970703</td>\n      <td>-1.176038</td>\n      <td>-1.305582</td>\n      <td>-1.274755</td>\n      <td>0.098058</td>\n      <td>-0.172929</td>\n      <td>2.791989</td>\n      <td>0.117444</td>\n      <td>0.223607</td>\n      <td>0.869652</td>\n      <td>A</td>\n    </tr>\n    <tr>\n      <th>1</th>\n      <td>-0.997257</td>\n      <td>-0.351048</td>\n      <td>0.497519</td>\n      <td>1.496264</td>\n      <td>0.614919</td>\n      <td>0.307784</td>\n      <td>-1.467893</td>\n      <td>-1.680054</td>\n      <td>-1.305582</td>\n      <td>-1.274755</td>\n      <td>0.098058</td>\n      <td>-0.172929</td>\n      <td>0.085907</td>\n      <td>3.816931</td>\n      <td>0.223607</td>\n      <td>-1.649340</td>\n      <td>A</td>\n    </tr>\n    <tr>\n      <th>2</th>\n      <td>-0.045330</td>\n      <td>-0.658216</td>\n      <td>0.497519</td>\n      <td>0.448879</td>\n      <td>0.614919</td>\n      <td>-0.189405</td>\n      <td>0.023676</td>\n      <td>-1.680054</td>\n      <td>-1.305582</td>\n      <td>0.784465</td>\n      <td>0.098058</td>\n      <td>-0.172929</td>\n      <td>2.791989</td>\n      <td>0.117444</td>\n      <td>0.223607</td>\n      <td>-0.389844</td>\n      <td>A</td>\n    </tr>\n    <tr>\n      <th>3</th>\n      <td>-0.362639</td>\n      <td>1.184788</td>\n      <td>0.497519</td>\n      <td>0.448879</td>\n      <td>0.614919</td>\n      <td>-0.189405</td>\n      <td>1.515244</td>\n      <td>0.840027</td>\n      <td>0.522233</td>\n      <td>0.784465</td>\n      <td>0.098058</td>\n      <td>2.005972</td>\n      <td>0.085907</td>\n      <td>0.117444</td>\n      <td>0.223607</td>\n      <td>0.869652</td>\n      <td>B</td>\n    </tr>\n    <tr>\n      <th>4</th>\n      <td>1.858523</td>\n      <td>-0.658216</td>\n      <td>0.497519</td>\n      <td>0.448879</td>\n      <td>0.614919</td>\n      <td>-0.189405</td>\n      <td>1.515244</td>\n      <td>0.840027</td>\n      <td>0.522233</td>\n      <td>0.784465</td>\n      <td>0.098058</td>\n      <td>2.732272</td>\n      <td>0.085907</td>\n      <td>0.117444</td>\n      <td>0.223607</td>\n      <td>0.869652</td>\n      <td>B</td>\n    </tr>\n  </tbody>\n</table>\n</div>"
     },
     "execution_count": 6,
     "metadata": {},
     "output_type": "execute_result"
    }
   ],
   "source": [
    "cols = list (df.columns)\n",
    "cols.remove(\"Label\")\n",
    "for col in cols:\n",
    "    df[col]=stats.zscore(df[col])\n",
    "df.head()"
   ],
   "metadata": {
    "collapsed": false,
    "pycharm": {
     "name": "#%%\n"
    }
   }
  },
  {
   "cell_type": "code",
   "execution_count": 7,
   "outputs": [
    {
     "data": {
      "text/plain": "array(['A', 'A', 'A', 'B', 'B', 'B', 'C', 'C', 'C', 'D', 'D', 'D', 'E',\n       'E', 'E', 'J', 'J', 'J', 'K', 'K', 'K'], dtype=object)"
     },
     "execution_count": 7,
     "metadata": {},
     "output_type": "execute_result"
    }
   ],
   "source": [
    "Y_train=df[\"Label\"].values\n",
    "Y_train"
   ],
   "metadata": {
    "collapsed": false,
    "pycharm": {
     "name": "#%%\n"
    }
   }
  },
  {
   "cell_type": "code",
   "execution_count": 8,
   "outputs": [
    {
     "data": {
      "text/plain": "       SOC-1     SOC-2     SOC-3     SOC-4     SOC-5     SOC-6     SOC-7  \\\n0  -0.679948 -0.351048  2.587097  1.496264  1.788854  0.307784 -0.970703   \n1  -0.997257 -0.351048  0.497519  1.496264  0.614919  0.307784 -1.467893   \n2  -0.045330 -0.658216  0.497519  0.448879  0.614919 -0.189405  0.023676   \n3  -0.362639  1.184788  0.497519  0.448879  0.614919 -0.189405  1.515244   \n4   1.858523 -0.658216  0.497519  0.448879  0.614919 -0.189405  1.515244   \n5  -0.362639  1.184788  0.497519  0.448879  0.614919 -0.189405  1.515244   \n6  -0.997257  0.570454 -0.547270 -0.598506 -0.559017 -0.686595  0.023676   \n7   0.589288 -0.965383 -0.547270 -0.598506 -0.559017 -0.686595 -0.473514   \n8   0.589288 -0.965383 -0.547270 -0.598506 -0.559017 -0.686595  0.520865   \n9  -0.362639  1.184788 -0.547270 -0.598506 -0.559017 -0.686595  1.018055   \n10  1.858523 -0.965383 -0.547270 -0.598506 -0.559017 -0.686595  1.018055   \n11 -0.362639  1.184788 -0.547270 -0.598506 -0.559017 -0.686595  1.018055   \n12 -0.362639  1.184788  0.497519  2.543649 -0.559017 -0.686595  0.520865   \n13  1.858523 -0.658216  0.497519  0.448879  0.614919 -0.686595 -0.473514   \n14 -0.362639  1.184788  0.497519  0.448879  2.962790 -0.686595  0.520865   \n15 -0.997257 -0.965383 -1.592060 -0.598506 -0.559017  2.296542 -0.970703   \n16 -0.997257 -0.965383 -1.592060 -1.645890 -1.732953  2.296542 -1.467893   \n17 -0.997257 -1.272550 -1.592060 -1.645890 -0.559017  2.296542 -0.970703   \n18 -0.362639  1.184788  1.542308  0.448879 -0.559017 -0.189405 -0.473514   \n19  1.858523 -1.272550 -0.547270 -0.598506 -0.559017 -0.686595 -1.467893   \n20 -0.362639  1.184788  0.497519 -0.598506 -0.559017  0.307784 -0.473514   \n\n       SOR-1     SOR-2     SOR-3     SOR-4     SOR-5     SOR-6     SOR-7  \\\n0  -1.176038 -1.305582 -1.274755  0.098058 -0.172929  2.791989  0.117444   \n1  -1.680054 -1.305582 -1.274755  0.098058 -0.172929  0.085907  3.816931   \n2  -1.680054 -1.305582  0.784465  0.098058 -0.172929  2.791989  0.117444   \n3   0.840027  0.522233  0.784465  0.098058  2.005972  0.085907  0.117444   \n4   0.840027  0.522233  0.784465  0.098058  2.732272  0.085907  0.117444   \n5   0.840027  0.522233  0.784465  3.186887 -0.172929  0.085907  0.117444   \n6   0.336011  0.522233 -1.274755 -0.931552 -0.899229 -0.816120 -1.115718   \n7  -0.672022  0.522233  0.784465 -0.931552 -0.899229 -0.816120  0.117444   \n8  -0.168005  2.350048  0.784465 -0.931552 -0.899229 -0.816120  0.117444   \n9   0.336011  0.522233  0.784465  0.098058 -0.172929  0.085907  0.117444   \n10  0.336011  0.522233  0.784465  0.098058 -0.172929  0.085907  0.117444   \n11  0.336011  0.522233  0.784465  0.098058 -0.172929  0.085907  0.117444   \n12  1.344043  0.522233 -1.274755  0.098058  0.553372  0.085907 -1.115718   \n13  1.344043 -1.305582 -1.274755 -0.931552  2.005972 -0.816120 -1.115718   \n14  1.344043  0.522233  0.784465  2.157277 -0.172929 -0.816120 -1.115718   \n15 -0.168005 -1.305582 -1.274755 -0.931552 -0.899229 -0.816120  0.117444   \n16 -1.680054 -1.305582 -1.274755 -0.931552 -0.899229 -0.816120  0.117444   \n17 -0.672022 -1.305582 -1.274755 -0.931552 -0.899229 -0.816120 -1.115718   \n18  0.840027  0.522233  0.784465  0.098058 -0.172929  0.085907  0.117444   \n19 -1.176038  0.522233  0.784465  0.098058 -0.172929  0.085907  0.117444   \n20  0.336011  0.522233  0.784465  0.098058 -0.172929  0.085907  0.117444   \n\n       SOR-8     SOR-9  \n0   0.223607  0.869652  \n1   0.223607 -1.649340  \n2   0.223607 -0.389844  \n3   0.223607  0.869652  \n4   0.223607  0.869652  \n5   0.223607  0.869652  \n6   0.223607 -0.389844  \n7   0.223607 -1.019592  \n8   0.223607 -1.019592  \n9   0.223607  0.239904  \n10  0.223607  0.239904  \n11  0.223607  0.239904  \n12  0.223607  1.499400  \n13 -4.472136  1.499400  \n14  0.223607  1.499400  \n15  0.223607 -1.019592  \n16  0.223607 -1.019592  \n17  0.223607 -1.019592  \n18  0.223607  0.239904  \n19  0.223607 -1.649340  \n20  0.223607  0.239904  ",
      "text/html": "<div>\n<style scoped>\n    .dataframe tbody tr th:only-of-type {\n        vertical-align: middle;\n    }\n\n    .dataframe tbody tr th {\n        vertical-align: top;\n    }\n\n    .dataframe thead th {\n        text-align: right;\n    }\n</style>\n<table border=\"1\" class=\"dataframe\">\n  <thead>\n    <tr style=\"text-align: right;\">\n      <th></th>\n      <th>SOC-1</th>\n      <th>SOC-2</th>\n      <th>SOC-3</th>\n      <th>SOC-4</th>\n      <th>SOC-5</th>\n      <th>SOC-6</th>\n      <th>SOC-7</th>\n      <th>SOR-1</th>\n      <th>SOR-2</th>\n      <th>SOR-3</th>\n      <th>SOR-4</th>\n      <th>SOR-5</th>\n      <th>SOR-6</th>\n      <th>SOR-7</th>\n      <th>SOR-8</th>\n      <th>SOR-9</th>\n    </tr>\n  </thead>\n  <tbody>\n    <tr>\n      <th>0</th>\n      <td>-0.679948</td>\n      <td>-0.351048</td>\n      <td>2.587097</td>\n      <td>1.496264</td>\n      <td>1.788854</td>\n      <td>0.307784</td>\n      <td>-0.970703</td>\n      <td>-1.176038</td>\n      <td>-1.305582</td>\n      <td>-1.274755</td>\n      <td>0.098058</td>\n      <td>-0.172929</td>\n      <td>2.791989</td>\n      <td>0.117444</td>\n      <td>0.223607</td>\n      <td>0.869652</td>\n    </tr>\n    <tr>\n      <th>1</th>\n      <td>-0.997257</td>\n      <td>-0.351048</td>\n      <td>0.497519</td>\n      <td>1.496264</td>\n      <td>0.614919</td>\n      <td>0.307784</td>\n      <td>-1.467893</td>\n      <td>-1.680054</td>\n      <td>-1.305582</td>\n      <td>-1.274755</td>\n      <td>0.098058</td>\n      <td>-0.172929</td>\n      <td>0.085907</td>\n      <td>3.816931</td>\n      <td>0.223607</td>\n      <td>-1.649340</td>\n    </tr>\n    <tr>\n      <th>2</th>\n      <td>-0.045330</td>\n      <td>-0.658216</td>\n      <td>0.497519</td>\n      <td>0.448879</td>\n      <td>0.614919</td>\n      <td>-0.189405</td>\n      <td>0.023676</td>\n      <td>-1.680054</td>\n      <td>-1.305582</td>\n      <td>0.784465</td>\n      <td>0.098058</td>\n      <td>-0.172929</td>\n      <td>2.791989</td>\n      <td>0.117444</td>\n      <td>0.223607</td>\n      <td>-0.389844</td>\n    </tr>\n    <tr>\n      <th>3</th>\n      <td>-0.362639</td>\n      <td>1.184788</td>\n      <td>0.497519</td>\n      <td>0.448879</td>\n      <td>0.614919</td>\n      <td>-0.189405</td>\n      <td>1.515244</td>\n      <td>0.840027</td>\n      <td>0.522233</td>\n      <td>0.784465</td>\n      <td>0.098058</td>\n      <td>2.005972</td>\n      <td>0.085907</td>\n      <td>0.117444</td>\n      <td>0.223607</td>\n      <td>0.869652</td>\n    </tr>\n    <tr>\n      <th>4</th>\n      <td>1.858523</td>\n      <td>-0.658216</td>\n      <td>0.497519</td>\n      <td>0.448879</td>\n      <td>0.614919</td>\n      <td>-0.189405</td>\n      <td>1.515244</td>\n      <td>0.840027</td>\n      <td>0.522233</td>\n      <td>0.784465</td>\n      <td>0.098058</td>\n      <td>2.732272</td>\n      <td>0.085907</td>\n      <td>0.117444</td>\n      <td>0.223607</td>\n      <td>0.869652</td>\n    </tr>\n    <tr>\n      <th>5</th>\n      <td>-0.362639</td>\n      <td>1.184788</td>\n      <td>0.497519</td>\n      <td>0.448879</td>\n      <td>0.614919</td>\n      <td>-0.189405</td>\n      <td>1.515244</td>\n      <td>0.840027</td>\n      <td>0.522233</td>\n      <td>0.784465</td>\n      <td>3.186887</td>\n      <td>-0.172929</td>\n      <td>0.085907</td>\n      <td>0.117444</td>\n      <td>0.223607</td>\n      <td>0.869652</td>\n    </tr>\n    <tr>\n      <th>6</th>\n      <td>-0.997257</td>\n      <td>0.570454</td>\n      <td>-0.547270</td>\n      <td>-0.598506</td>\n      <td>-0.559017</td>\n      <td>-0.686595</td>\n      <td>0.023676</td>\n      <td>0.336011</td>\n      <td>0.522233</td>\n      <td>-1.274755</td>\n      <td>-0.931552</td>\n      <td>-0.899229</td>\n      <td>-0.816120</td>\n      <td>-1.115718</td>\n      <td>0.223607</td>\n      <td>-0.389844</td>\n    </tr>\n    <tr>\n      <th>7</th>\n      <td>0.589288</td>\n      <td>-0.965383</td>\n      <td>-0.547270</td>\n      <td>-0.598506</td>\n      <td>-0.559017</td>\n      <td>-0.686595</td>\n      <td>-0.473514</td>\n      <td>-0.672022</td>\n      <td>0.522233</td>\n      <td>0.784465</td>\n      <td>-0.931552</td>\n      <td>-0.899229</td>\n      <td>-0.816120</td>\n      <td>0.117444</td>\n      <td>0.223607</td>\n      <td>-1.019592</td>\n    </tr>\n    <tr>\n      <th>8</th>\n      <td>0.589288</td>\n      <td>-0.965383</td>\n      <td>-0.547270</td>\n      <td>-0.598506</td>\n      <td>-0.559017</td>\n      <td>-0.686595</td>\n      <td>0.520865</td>\n      <td>-0.168005</td>\n      <td>2.350048</td>\n      <td>0.784465</td>\n      <td>-0.931552</td>\n      <td>-0.899229</td>\n      <td>-0.816120</td>\n      <td>0.117444</td>\n      <td>0.223607</td>\n      <td>-1.019592</td>\n    </tr>\n    <tr>\n      <th>9</th>\n      <td>-0.362639</td>\n      <td>1.184788</td>\n      <td>-0.547270</td>\n      <td>-0.598506</td>\n      <td>-0.559017</td>\n      <td>-0.686595</td>\n      <td>1.018055</td>\n      <td>0.336011</td>\n      <td>0.522233</td>\n      <td>0.784465</td>\n      <td>0.098058</td>\n      <td>-0.172929</td>\n      <td>0.085907</td>\n      <td>0.117444</td>\n      <td>0.223607</td>\n      <td>0.239904</td>\n    </tr>\n    <tr>\n      <th>10</th>\n      <td>1.858523</td>\n      <td>-0.965383</td>\n      <td>-0.547270</td>\n      <td>-0.598506</td>\n      <td>-0.559017</td>\n      <td>-0.686595</td>\n      <td>1.018055</td>\n      <td>0.336011</td>\n      <td>0.522233</td>\n      <td>0.784465</td>\n      <td>0.098058</td>\n      <td>-0.172929</td>\n      <td>0.085907</td>\n      <td>0.117444</td>\n      <td>0.223607</td>\n      <td>0.239904</td>\n    </tr>\n    <tr>\n      <th>11</th>\n      <td>-0.362639</td>\n      <td>1.184788</td>\n      <td>-0.547270</td>\n      <td>-0.598506</td>\n      <td>-0.559017</td>\n      <td>-0.686595</td>\n      <td>1.018055</td>\n      <td>0.336011</td>\n      <td>0.522233</td>\n      <td>0.784465</td>\n      <td>0.098058</td>\n      <td>-0.172929</td>\n      <td>0.085907</td>\n      <td>0.117444</td>\n      <td>0.223607</td>\n      <td>0.239904</td>\n    </tr>\n    <tr>\n      <th>12</th>\n      <td>-0.362639</td>\n      <td>1.184788</td>\n      <td>0.497519</td>\n      <td>2.543649</td>\n      <td>-0.559017</td>\n      <td>-0.686595</td>\n      <td>0.520865</td>\n      <td>1.344043</td>\n      <td>0.522233</td>\n      <td>-1.274755</td>\n      <td>0.098058</td>\n      <td>0.553372</td>\n      <td>0.085907</td>\n      <td>-1.115718</td>\n      <td>0.223607</td>\n      <td>1.499400</td>\n    </tr>\n    <tr>\n      <th>13</th>\n      <td>1.858523</td>\n      <td>-0.658216</td>\n      <td>0.497519</td>\n      <td>0.448879</td>\n      <td>0.614919</td>\n      <td>-0.686595</td>\n      <td>-0.473514</td>\n      <td>1.344043</td>\n      <td>-1.305582</td>\n      <td>-1.274755</td>\n      <td>-0.931552</td>\n      <td>2.005972</td>\n      <td>-0.816120</td>\n      <td>-1.115718</td>\n      <td>-4.472136</td>\n      <td>1.499400</td>\n    </tr>\n    <tr>\n      <th>14</th>\n      <td>-0.362639</td>\n      <td>1.184788</td>\n      <td>0.497519</td>\n      <td>0.448879</td>\n      <td>2.962790</td>\n      <td>-0.686595</td>\n      <td>0.520865</td>\n      <td>1.344043</td>\n      <td>0.522233</td>\n      <td>0.784465</td>\n      <td>2.157277</td>\n      <td>-0.172929</td>\n      <td>-0.816120</td>\n      <td>-1.115718</td>\n      <td>0.223607</td>\n      <td>1.499400</td>\n    </tr>\n    <tr>\n      <th>15</th>\n      <td>-0.997257</td>\n      <td>-0.965383</td>\n      <td>-1.592060</td>\n      <td>-0.598506</td>\n      <td>-0.559017</td>\n      <td>2.296542</td>\n      <td>-0.970703</td>\n      <td>-0.168005</td>\n      <td>-1.305582</td>\n      <td>-1.274755</td>\n      <td>-0.931552</td>\n      <td>-0.899229</td>\n      <td>-0.816120</td>\n      <td>0.117444</td>\n      <td>0.223607</td>\n      <td>-1.019592</td>\n    </tr>\n    <tr>\n      <th>16</th>\n      <td>-0.997257</td>\n      <td>-0.965383</td>\n      <td>-1.592060</td>\n      <td>-1.645890</td>\n      <td>-1.732953</td>\n      <td>2.296542</td>\n      <td>-1.467893</td>\n      <td>-1.680054</td>\n      <td>-1.305582</td>\n      <td>-1.274755</td>\n      <td>-0.931552</td>\n      <td>-0.899229</td>\n      <td>-0.816120</td>\n      <td>0.117444</td>\n      <td>0.223607</td>\n      <td>-1.019592</td>\n    </tr>\n    <tr>\n      <th>17</th>\n      <td>-0.997257</td>\n      <td>-1.272550</td>\n      <td>-1.592060</td>\n      <td>-1.645890</td>\n      <td>-0.559017</td>\n      <td>2.296542</td>\n      <td>-0.970703</td>\n      <td>-0.672022</td>\n      <td>-1.305582</td>\n      <td>-1.274755</td>\n      <td>-0.931552</td>\n      <td>-0.899229</td>\n      <td>-0.816120</td>\n      <td>-1.115718</td>\n      <td>0.223607</td>\n      <td>-1.019592</td>\n    </tr>\n    <tr>\n      <th>18</th>\n      <td>-0.362639</td>\n      <td>1.184788</td>\n      <td>1.542308</td>\n      <td>0.448879</td>\n      <td>-0.559017</td>\n      <td>-0.189405</td>\n      <td>-0.473514</td>\n      <td>0.840027</td>\n      <td>0.522233</td>\n      <td>0.784465</td>\n      <td>0.098058</td>\n      <td>-0.172929</td>\n      <td>0.085907</td>\n      <td>0.117444</td>\n      <td>0.223607</td>\n      <td>0.239904</td>\n    </tr>\n    <tr>\n      <th>19</th>\n      <td>1.858523</td>\n      <td>-1.272550</td>\n      <td>-0.547270</td>\n      <td>-0.598506</td>\n      <td>-0.559017</td>\n      <td>-0.686595</td>\n      <td>-1.467893</td>\n      <td>-1.176038</td>\n      <td>0.522233</td>\n      <td>0.784465</td>\n      <td>0.098058</td>\n      <td>-0.172929</td>\n      <td>0.085907</td>\n      <td>0.117444</td>\n      <td>0.223607</td>\n      <td>-1.649340</td>\n    </tr>\n    <tr>\n      <th>20</th>\n      <td>-0.362639</td>\n      <td>1.184788</td>\n      <td>0.497519</td>\n      <td>-0.598506</td>\n      <td>-0.559017</td>\n      <td>0.307784</td>\n      <td>-0.473514</td>\n      <td>0.336011</td>\n      <td>0.522233</td>\n      <td>0.784465</td>\n      <td>0.098058</td>\n      <td>-0.172929</td>\n      <td>0.085907</td>\n      <td>0.117444</td>\n      <td>0.223607</td>\n      <td>0.239904</td>\n    </tr>\n  </tbody>\n</table>\n</div>"
     },
     "execution_count": 8,
     "metadata": {},
     "output_type": "execute_result"
    }
   ],
   "source": [
    "X_train= df[cols]\n",
    "X_train"
   ],
   "metadata": {
    "collapsed": false,
    "pycharm": {
     "name": "#%%\n"
    }
   }
  },
  {
   "cell_type": "code",
   "execution_count": 9,
   "outputs": [
    {
     "data": {
      "text/plain": "KNeighborsClassifier(n_neighbors=1)",
      "text/html": "<style>#sk-container-id-1 {color: black;background-color: white;}#sk-container-id-1 pre{padding: 0;}#sk-container-id-1 div.sk-toggleable {background-color: white;}#sk-container-id-1 label.sk-toggleable__label {cursor: pointer;display: block;width: 100%;margin-bottom: 0;padding: 0.3em;box-sizing: border-box;text-align: center;}#sk-container-id-1 label.sk-toggleable__label-arrow:before {content: \"▸\";float: left;margin-right: 0.25em;color: #696969;}#sk-container-id-1 label.sk-toggleable__label-arrow:hover:before {color: black;}#sk-container-id-1 div.sk-estimator:hover label.sk-toggleable__label-arrow:before {color: black;}#sk-container-id-1 div.sk-toggleable__content {max-height: 0;max-width: 0;overflow: hidden;text-align: left;background-color: #f0f8ff;}#sk-container-id-1 div.sk-toggleable__content pre {margin: 0.2em;color: black;border-radius: 0.25em;background-color: #f0f8ff;}#sk-container-id-1 input.sk-toggleable__control:checked~div.sk-toggleable__content {max-height: 200px;max-width: 100%;overflow: auto;}#sk-container-id-1 input.sk-toggleable__control:checked~label.sk-toggleable__label-arrow:before {content: \"▾\";}#sk-container-id-1 div.sk-estimator input.sk-toggleable__control:checked~label.sk-toggleable__label {background-color: #d4ebff;}#sk-container-id-1 div.sk-label input.sk-toggleable__control:checked~label.sk-toggleable__label {background-color: #d4ebff;}#sk-container-id-1 input.sk-hidden--visually {border: 0;clip: rect(1px 1px 1px 1px);clip: rect(1px, 1px, 1px, 1px);height: 1px;margin: -1px;overflow: hidden;padding: 0;position: absolute;width: 1px;}#sk-container-id-1 div.sk-estimator {font-family: monospace;background-color: #f0f8ff;border: 1px dotted black;border-radius: 0.25em;box-sizing: border-box;margin-bottom: 0.5em;}#sk-container-id-1 div.sk-estimator:hover {background-color: #d4ebff;}#sk-container-id-1 div.sk-parallel-item::after {content: \"\";width: 100%;border-bottom: 1px solid gray;flex-grow: 1;}#sk-container-id-1 div.sk-label:hover label.sk-toggleable__label {background-color: #d4ebff;}#sk-container-id-1 div.sk-serial::before {content: \"\";position: absolute;border-left: 1px solid gray;box-sizing: border-box;top: 0;bottom: 0;left: 50%;z-index: 0;}#sk-container-id-1 div.sk-serial {display: flex;flex-direction: column;align-items: center;background-color: white;padding-right: 0.2em;padding-left: 0.2em;position: relative;}#sk-container-id-1 div.sk-item {position: relative;z-index: 1;}#sk-container-id-1 div.sk-parallel {display: flex;align-items: stretch;justify-content: center;background-color: white;position: relative;}#sk-container-id-1 div.sk-item::before, #sk-container-id-1 div.sk-parallel-item::before {content: \"\";position: absolute;border-left: 1px solid gray;box-sizing: border-box;top: 0;bottom: 0;left: 50%;z-index: -1;}#sk-container-id-1 div.sk-parallel-item {display: flex;flex-direction: column;z-index: 1;position: relative;background-color: white;}#sk-container-id-1 div.sk-parallel-item:first-child::after {align-self: flex-end;width: 50%;}#sk-container-id-1 div.sk-parallel-item:last-child::after {align-self: flex-start;width: 50%;}#sk-container-id-1 div.sk-parallel-item:only-child::after {width: 0;}#sk-container-id-1 div.sk-dashed-wrapped {border: 1px dashed gray;margin: 0 0.4em 0.5em 0.4em;box-sizing: border-box;padding-bottom: 0.4em;background-color: white;}#sk-container-id-1 div.sk-label label {font-family: monospace;font-weight: bold;display: inline-block;line-height: 1.2em;}#sk-container-id-1 div.sk-label-container {text-align: center;}#sk-container-id-1 div.sk-container {/* jupyter's `normalize.less` sets `[hidden] { display: none; }` but bootstrap.min.css set `[hidden] { display: none !important; }` so we also need the `!important` here to be able to override the default hidden behavior on the sphinx rendered scikit-learn.org. See: https://github.com/scikit-learn/scikit-learn/issues/21755 */display: inline-block !important;position: relative;}#sk-container-id-1 div.sk-text-repr-fallback {display: none;}</style><div id=\"sk-container-id-1\" class=\"sk-top-container\"><div class=\"sk-text-repr-fallback\"><pre>KNeighborsClassifier(n_neighbors=1)</pre><b>In a Jupyter environment, please rerun this cell to show the HTML representation or trust the notebook. <br />On GitHub, the HTML representation is unable to render, please try loading this page with nbviewer.org.</b></div><div class=\"sk-container\" hidden><div class=\"sk-item\"><div class=\"sk-estimator sk-toggleable\"><input class=\"sk-toggleable__control sk-hidden--visually\" id=\"sk-estimator-id-1\" type=\"checkbox\" checked><label for=\"sk-estimator-id-1\" class=\"sk-toggleable__label sk-toggleable__label-arrow\">KNeighborsClassifier</label><div class=\"sk-toggleable__content\"><pre>KNeighborsClassifier(n_neighbors=1)</pre></div></div></div></div></div>"
     },
     "execution_count": 9,
     "metadata": {},
     "output_type": "execute_result"
    }
   ],
   "source": [
    "k = 1\n",
    "#Train Model and Predict\n",
    "neigh = KNeighborsClassifier(n_neighbors = k).fit(X_train,Y_train)\n",
    "neigh"
   ],
   "metadata": {
    "collapsed": false,
    "pycharm": {
     "name": "#%%\n"
    }
   }
  },
  {
   "cell_type": "code",
   "execution_count": 10,
   "outputs": [
    {
     "name": "stdout",
     "output_type": "stream",
     "text": [
      "Train set Accuracy:  1.0\n"
     ]
    }
   ],
   "source": [
    "\n",
    "print(\"Train set Accuracy: \", metrics.accuracy_score(Y_train, neigh.predict(X_train)))\n"
   ],
   "metadata": {
    "collapsed": false,
    "pycharm": {
     "name": "#%%\n"
    }
   }
  },
  {
   "cell_type": "code",
   "execution_count": 11,
   "outputs": [
    {
     "name": "stdout",
     "output_type": "stream",
     "text": [
      "List of file names:\n",
      "['A1.txt', 'A2.txt', 'A3.txt', 'B1.txt', 'B2.txt', 'B3.txt', 'C1.txt', 'C2.txt', 'C3.txt', 'D1.txt', 'D2.txt', 'D3.txt', 'E1.txt', 'E2.txt', 'E3.txt', 'J1.txt', 'J2.txt', 'J3.txt', 'K1.txt', 'K2.txt', 'K3.txt']\n",
      "cont of files: 21\n"
     ]
    }
   ],
   "source": [
    "ListOfTestFiles = [name for name in sorted(list(os.listdir(\"Test\"))) if \".txt\" in name]\n",
    "print(\"List of file names:\")\n",
    "print(ListOfTrainFiles)\n",
    "print(f\"cont of files: {len(ListOfTrainFiles)}\")"
   ],
   "metadata": {
    "collapsed": false,
    "pycharm": {
     "name": "#%%\n"
    }
   }
  },
  {
   "cell_type": "code",
   "execution_count": 12,
   "outputs": [
    {
     "data": {
      "text/plain": "[[9, 31, 51, 42, 36, 37, 9, 18, 15, 9, 24, 18, 45, 24, 18, 44, 'A'],\n [12, 26, 27, 31, 23, 26, 6, 9, 4, 9, 18, 13, 18, 40, 14, 26, 'A'],\n [27, 22, 33, 28, 27, 22, 27, 9, 9, 18, 18, 18, 30, 18, 18, 48, 'A'],\n [18, 76, 39, 33, 27, 27, 54, 54, 13, 18, 24, 45, 24, 24, 18, 54, 'B'],\n [71, 27, 27, 28, 27, 27, 49, 54, 18, 13, 18, 44, 18, 18, 19, 54, 'B'],\n [36, 81, 27, 27, 27, 27, 49, 54, 24, 18, 45, 24, 18, 19, 18, 54, 'B'],\n [6, 58, 24, 18, 30, 18, 27, 45, 30, 9, 15, 4, 9, 9, 24, 36, 'C'],\n [45, 24, 18, 24, 18, 19, 13, 27, 18, 18, 9, 27, 9, 13, 13, 27, 'C'],\n [40, 18, 13, 18, 18, 18, 42, 36, 27, 18, 9, 15, 4, 18, 18, 22, 'C'],\n [18, 81, 30, 24, 18, 18, 35, 45, 24, 13, 24, 13, 18, 18, 24, 45, 'D'],\n [66, 24, 24, 18, 18, 18, 45, 40, 18, 18, 18, 30, 18, 13, 18, 40, 'D'],\n [18, 81, 24, 30, 18, 18, 35, 45, 18, 18, 18, 25, 18, 13, 24, 45, 'D'],\n [24, 81, 17, 45, 24, 18, 36, 58, 18, 9, 18, 28, 18, 9, 24, 63, 'E'],\n [66, 27, 39, 27, 27, 18, 18, 58, 9, 9, 9, 40, 9, 15, 15, 58, 'E'],\n [19, 76, 27, 22, 40, 18, 36, 63, 18, 18, 32, 18, 9, 9, 18, 53, 'E'],\n [0, 13, 9, 18, 24, 62, 9, 31, 9, 9, 9, 9, 4, 18, 19, 27, 'J'],\n [12, 8, 4, 9, 9, 72, 0, 9, 9, 9, 9, 9, 9, 13, 19, 28, 'J'],\n [0, 9, 9, 9, 18, 62, 21, 27, 15, 15, 9, 4, 9, 9, 13, 27, 'J'],\n [18, 76, 37, 27, 18, 30, 18, 46, 18, 18, 18, 18, 18, 24, 24, 40, 'K'],\n [66, 9, 18, 18, 18, 8, 0, 8, 18, 18, 18, 13, 18, 18, 18, 8, 'K'],\n [8, 81, 27, 13, 18, 31, 13, 35, 18, 18, 13, 18, 18, 18, 13, 40, 'K']]"
     },
     "execution_count": 12,
     "metadata": {},
     "output_type": "execute_result"
    }
   ],
   "source": [
    "dataset(test=True,list_files=ListOfTestFiles)"
   ],
   "metadata": {
    "collapsed": false,
    "pycharm": {
     "name": "#%%\n"
    }
   }
  },
  {
   "cell_type": "code",
   "execution_count": 13,
   "outputs": [
    {
     "data": {
      "text/plain": "    SOC-1  SOC-2  SOC-3  SOC-4  SOC-5  SOC-6  SOC-7  SOR-1  SOR-2  SOR-3  \\\n0       9     31     51     42     36     37      9     18     15      9   \n1      12     26     27     31     23     26      6      9      4      9   \n2      27     22     33     28     27     22     27      9      9     18   \n3      18     76     39     33     27     27     54     54     13     18   \n4      71     27     27     28     27     27     49     54     18     13   \n5      36     81     27     27     27     27     49     54     24     18   \n6       6     58     24     18     30     18     27     45     30      9   \n7      45     24     18     24     18     19     13     27     18     18   \n8      40     18     13     18     18     18     42     36     27     18   \n9      18     81     30     24     18     18     35     45     24     13   \n10     66     24     24     18     18     18     45     40     18     18   \n11     18     81     24     30     18     18     35     45     18     18   \n12     24     81     17     45     24     18     36     58     18      9   \n13     66     27     39     27     27     18     18     58      9      9   \n14     19     76     27     22     40     18     36     63     18     18   \n15      0     13      9     18     24     62      9     31      9      9   \n16     12      8      4      9      9     72      0      9      9      9   \n17      0      9      9      9     18     62     21     27     15     15   \n18     18     76     37     27     18     30     18     46     18     18   \n19     66      9     18     18     18      8      0      8     18     18   \n20      8     81     27     13     18     31     13     35     18     18   \n\n    SOR-4  SOR-5  SOR-6  SOR-7  SOR-8  SOR-9 Label  \n0      24     18     45     24     18     44     A  \n1      18     13     18     40     14     26     A  \n2      18     18     30     18     18     48     A  \n3      24     45     24     24     18     54     B  \n4      18     44     18     18     19     54     B  \n5      45     24     18     19     18     54     B  \n6      15      4      9      9     24     36     C  \n7       9     27      9     13     13     27     C  \n8       9     15      4     18     18     22     C  \n9      24     13     18     18     24     45     D  \n10     18     30     18     13     18     40     D  \n11     18     25     18     13     24     45     D  \n12     18     28     18      9     24     63     E  \n13      9     40      9     15     15     58     E  \n14     32     18      9      9     18     53     E  \n15      9      9      4     18     19     27     J  \n16      9      9      9     13     19     28     J  \n17      9      4      9      9     13     27     J  \n18     18     18     18     24     24     40     K  \n19     18     13     18     18     18      8     K  \n20     13     18     18     18     13     40     K  ",
      "text/html": "<div>\n<style scoped>\n    .dataframe tbody tr th:only-of-type {\n        vertical-align: middle;\n    }\n\n    .dataframe tbody tr th {\n        vertical-align: top;\n    }\n\n    .dataframe thead th {\n        text-align: right;\n    }\n</style>\n<table border=\"1\" class=\"dataframe\">\n  <thead>\n    <tr style=\"text-align: right;\">\n      <th></th>\n      <th>SOC-1</th>\n      <th>SOC-2</th>\n      <th>SOC-3</th>\n      <th>SOC-4</th>\n      <th>SOC-5</th>\n      <th>SOC-6</th>\n      <th>SOC-7</th>\n      <th>SOR-1</th>\n      <th>SOR-2</th>\n      <th>SOR-3</th>\n      <th>SOR-4</th>\n      <th>SOR-5</th>\n      <th>SOR-6</th>\n      <th>SOR-7</th>\n      <th>SOR-8</th>\n      <th>SOR-9</th>\n      <th>Label</th>\n    </tr>\n  </thead>\n  <tbody>\n    <tr>\n      <th>0</th>\n      <td>9</td>\n      <td>31</td>\n      <td>51</td>\n      <td>42</td>\n      <td>36</td>\n      <td>37</td>\n      <td>9</td>\n      <td>18</td>\n      <td>15</td>\n      <td>9</td>\n      <td>24</td>\n      <td>18</td>\n      <td>45</td>\n      <td>24</td>\n      <td>18</td>\n      <td>44</td>\n      <td>A</td>\n    </tr>\n    <tr>\n      <th>1</th>\n      <td>12</td>\n      <td>26</td>\n      <td>27</td>\n      <td>31</td>\n      <td>23</td>\n      <td>26</td>\n      <td>6</td>\n      <td>9</td>\n      <td>4</td>\n      <td>9</td>\n      <td>18</td>\n      <td>13</td>\n      <td>18</td>\n      <td>40</td>\n      <td>14</td>\n      <td>26</td>\n      <td>A</td>\n    </tr>\n    <tr>\n      <th>2</th>\n      <td>27</td>\n      <td>22</td>\n      <td>33</td>\n      <td>28</td>\n      <td>27</td>\n      <td>22</td>\n      <td>27</td>\n      <td>9</td>\n      <td>9</td>\n      <td>18</td>\n      <td>18</td>\n      <td>18</td>\n      <td>30</td>\n      <td>18</td>\n      <td>18</td>\n      <td>48</td>\n      <td>A</td>\n    </tr>\n    <tr>\n      <th>3</th>\n      <td>18</td>\n      <td>76</td>\n      <td>39</td>\n      <td>33</td>\n      <td>27</td>\n      <td>27</td>\n      <td>54</td>\n      <td>54</td>\n      <td>13</td>\n      <td>18</td>\n      <td>24</td>\n      <td>45</td>\n      <td>24</td>\n      <td>24</td>\n      <td>18</td>\n      <td>54</td>\n      <td>B</td>\n    </tr>\n    <tr>\n      <th>4</th>\n      <td>71</td>\n      <td>27</td>\n      <td>27</td>\n      <td>28</td>\n      <td>27</td>\n      <td>27</td>\n      <td>49</td>\n      <td>54</td>\n      <td>18</td>\n      <td>13</td>\n      <td>18</td>\n      <td>44</td>\n      <td>18</td>\n      <td>18</td>\n      <td>19</td>\n      <td>54</td>\n      <td>B</td>\n    </tr>\n    <tr>\n      <th>5</th>\n      <td>36</td>\n      <td>81</td>\n      <td>27</td>\n      <td>27</td>\n      <td>27</td>\n      <td>27</td>\n      <td>49</td>\n      <td>54</td>\n      <td>24</td>\n      <td>18</td>\n      <td>45</td>\n      <td>24</td>\n      <td>18</td>\n      <td>19</td>\n      <td>18</td>\n      <td>54</td>\n      <td>B</td>\n    </tr>\n    <tr>\n      <th>6</th>\n      <td>6</td>\n      <td>58</td>\n      <td>24</td>\n      <td>18</td>\n      <td>30</td>\n      <td>18</td>\n      <td>27</td>\n      <td>45</td>\n      <td>30</td>\n      <td>9</td>\n      <td>15</td>\n      <td>4</td>\n      <td>9</td>\n      <td>9</td>\n      <td>24</td>\n      <td>36</td>\n      <td>C</td>\n    </tr>\n    <tr>\n      <th>7</th>\n      <td>45</td>\n      <td>24</td>\n      <td>18</td>\n      <td>24</td>\n      <td>18</td>\n      <td>19</td>\n      <td>13</td>\n      <td>27</td>\n      <td>18</td>\n      <td>18</td>\n      <td>9</td>\n      <td>27</td>\n      <td>9</td>\n      <td>13</td>\n      <td>13</td>\n      <td>27</td>\n      <td>C</td>\n    </tr>\n    <tr>\n      <th>8</th>\n      <td>40</td>\n      <td>18</td>\n      <td>13</td>\n      <td>18</td>\n      <td>18</td>\n      <td>18</td>\n      <td>42</td>\n      <td>36</td>\n      <td>27</td>\n      <td>18</td>\n      <td>9</td>\n      <td>15</td>\n      <td>4</td>\n      <td>18</td>\n      <td>18</td>\n      <td>22</td>\n      <td>C</td>\n    </tr>\n    <tr>\n      <th>9</th>\n      <td>18</td>\n      <td>81</td>\n      <td>30</td>\n      <td>24</td>\n      <td>18</td>\n      <td>18</td>\n      <td>35</td>\n      <td>45</td>\n      <td>24</td>\n      <td>13</td>\n      <td>24</td>\n      <td>13</td>\n      <td>18</td>\n      <td>18</td>\n      <td>24</td>\n      <td>45</td>\n      <td>D</td>\n    </tr>\n    <tr>\n      <th>10</th>\n      <td>66</td>\n      <td>24</td>\n      <td>24</td>\n      <td>18</td>\n      <td>18</td>\n      <td>18</td>\n      <td>45</td>\n      <td>40</td>\n      <td>18</td>\n      <td>18</td>\n      <td>18</td>\n      <td>30</td>\n      <td>18</td>\n      <td>13</td>\n      <td>18</td>\n      <td>40</td>\n      <td>D</td>\n    </tr>\n    <tr>\n      <th>11</th>\n      <td>18</td>\n      <td>81</td>\n      <td>24</td>\n      <td>30</td>\n      <td>18</td>\n      <td>18</td>\n      <td>35</td>\n      <td>45</td>\n      <td>18</td>\n      <td>18</td>\n      <td>18</td>\n      <td>25</td>\n      <td>18</td>\n      <td>13</td>\n      <td>24</td>\n      <td>45</td>\n      <td>D</td>\n    </tr>\n    <tr>\n      <th>12</th>\n      <td>24</td>\n      <td>81</td>\n      <td>17</td>\n      <td>45</td>\n      <td>24</td>\n      <td>18</td>\n      <td>36</td>\n      <td>58</td>\n      <td>18</td>\n      <td>9</td>\n      <td>18</td>\n      <td>28</td>\n      <td>18</td>\n      <td>9</td>\n      <td>24</td>\n      <td>63</td>\n      <td>E</td>\n    </tr>\n    <tr>\n      <th>13</th>\n      <td>66</td>\n      <td>27</td>\n      <td>39</td>\n      <td>27</td>\n      <td>27</td>\n      <td>18</td>\n      <td>18</td>\n      <td>58</td>\n      <td>9</td>\n      <td>9</td>\n      <td>9</td>\n      <td>40</td>\n      <td>9</td>\n      <td>15</td>\n      <td>15</td>\n      <td>58</td>\n      <td>E</td>\n    </tr>\n    <tr>\n      <th>14</th>\n      <td>19</td>\n      <td>76</td>\n      <td>27</td>\n      <td>22</td>\n      <td>40</td>\n      <td>18</td>\n      <td>36</td>\n      <td>63</td>\n      <td>18</td>\n      <td>18</td>\n      <td>32</td>\n      <td>18</td>\n      <td>9</td>\n      <td>9</td>\n      <td>18</td>\n      <td>53</td>\n      <td>E</td>\n    </tr>\n    <tr>\n      <th>15</th>\n      <td>0</td>\n      <td>13</td>\n      <td>9</td>\n      <td>18</td>\n      <td>24</td>\n      <td>62</td>\n      <td>9</td>\n      <td>31</td>\n      <td>9</td>\n      <td>9</td>\n      <td>9</td>\n      <td>9</td>\n      <td>4</td>\n      <td>18</td>\n      <td>19</td>\n      <td>27</td>\n      <td>J</td>\n    </tr>\n    <tr>\n      <th>16</th>\n      <td>12</td>\n      <td>8</td>\n      <td>4</td>\n      <td>9</td>\n      <td>9</td>\n      <td>72</td>\n      <td>0</td>\n      <td>9</td>\n      <td>9</td>\n      <td>9</td>\n      <td>9</td>\n      <td>9</td>\n      <td>9</td>\n      <td>13</td>\n      <td>19</td>\n      <td>28</td>\n      <td>J</td>\n    </tr>\n    <tr>\n      <th>17</th>\n      <td>0</td>\n      <td>9</td>\n      <td>9</td>\n      <td>9</td>\n      <td>18</td>\n      <td>62</td>\n      <td>21</td>\n      <td>27</td>\n      <td>15</td>\n      <td>15</td>\n      <td>9</td>\n      <td>4</td>\n      <td>9</td>\n      <td>9</td>\n      <td>13</td>\n      <td>27</td>\n      <td>J</td>\n    </tr>\n    <tr>\n      <th>18</th>\n      <td>18</td>\n      <td>76</td>\n      <td>37</td>\n      <td>27</td>\n      <td>18</td>\n      <td>30</td>\n      <td>18</td>\n      <td>46</td>\n      <td>18</td>\n      <td>18</td>\n      <td>18</td>\n      <td>18</td>\n      <td>18</td>\n      <td>24</td>\n      <td>24</td>\n      <td>40</td>\n      <td>K</td>\n    </tr>\n    <tr>\n      <th>19</th>\n      <td>66</td>\n      <td>9</td>\n      <td>18</td>\n      <td>18</td>\n      <td>18</td>\n      <td>8</td>\n      <td>0</td>\n      <td>8</td>\n      <td>18</td>\n      <td>18</td>\n      <td>18</td>\n      <td>13</td>\n      <td>18</td>\n      <td>18</td>\n      <td>18</td>\n      <td>8</td>\n      <td>K</td>\n    </tr>\n    <tr>\n      <th>20</th>\n      <td>8</td>\n      <td>81</td>\n      <td>27</td>\n      <td>13</td>\n      <td>18</td>\n      <td>31</td>\n      <td>13</td>\n      <td>35</td>\n      <td>18</td>\n      <td>18</td>\n      <td>13</td>\n      <td>18</td>\n      <td>18</td>\n      <td>18</td>\n      <td>13</td>\n      <td>40</td>\n      <td>K</td>\n    </tr>\n  </tbody>\n</table>\n</div>"
     },
     "execution_count": 13,
     "metadata": {},
     "output_type": "execute_result"
    }
   ],
   "source": [
    "df_test=pd.DataFrame(dataset(test=True,list_files=ListOfTestFiles),columns=columns)\n",
    "df_test"
   ],
   "metadata": {
    "collapsed": false,
    "pycharm": {
     "name": "#%%\n"
    }
   }
  },
  {
   "cell_type": "code",
   "execution_count": 14,
   "outputs": [
    {
     "data": {
      "text/plain": "       SOC-1     SOC-2     SOC-3     SOC-4     SOC-5     SOC-6     SOC-7  \\\n0  -0.830653 -0.454065  2.348656  1.949170  1.874530  0.530602 -1.025418   \n1  -0.696470 -0.625565  0.184629  0.742043  0.000000 -0.139174 -1.208424   \n2  -0.025559 -0.762764  0.725636  0.412827  0.576778 -0.382729  0.072622   \n3  -0.428106  1.089430  1.266643  0.961521  0.576778 -0.078286  1.719681   \n4   1.942449 -0.591265  0.184629  0.412827  0.576778 -0.078286  1.414670   \n5   0.376988  1.260930  0.184629  0.303088  0.576778 -0.078286  1.414670   \n6  -0.964835  0.472032 -0.085874 -0.684561  1.009362 -0.626284  0.072622   \n7   0.779535 -0.694165 -0.626881 -0.026128 -0.720973 -0.565396 -0.781409   \n8   0.555898 -0.899964 -1.077720 -0.684561 -0.720973 -0.626284  0.987655   \n9  -0.428106  1.260930  0.455133 -0.026128 -0.720973 -0.626284  0.560639   \n10  1.718812 -0.694165 -0.085874 -0.684561 -0.720973 -0.626284  1.170661   \n11 -0.428106  1.260930 -0.085874  0.632304 -0.720973 -0.626284  0.560639   \n12 -0.159741  1.260930 -0.717049  2.278386  0.144195 -0.626284  0.621641   \n13  1.718812 -0.591265  1.266643  0.303088  0.576778 -0.626284 -0.476398   \n14 -0.383378  1.089430  0.184629 -0.245606  2.451308 -0.626284  0.621641   \n15 -1.233200 -1.071464 -1.438391 -0.684561  0.144195  2.052821 -1.025418   \n16 -0.696470 -1.242963 -1.889230 -1.672210 -2.018724  2.661708 -1.574438   \n17 -1.233200 -1.208663 -1.438391 -1.672210 -0.720973  2.052821 -0.293392   \n18 -0.428106  1.089430  1.086307  0.303088 -0.720973  0.104381 -0.476398   \n19  1.718812 -1.208663 -0.626881 -0.684561 -0.720973 -1.235172 -1.574438   \n20 -0.875380  1.260930  0.184629 -1.233255 -0.720973  0.165269 -0.781409   \n\n       SOR-1     SOR-2     SOR-3     SOR-4     SOR-5     SOR-6     SOR-7  \\\n0  -1.063694 -0.266285 -1.316269  0.714421 -0.227102  3.176397  0.988483   \n1  -1.575241 -2.023765 -1.316269  0.016614 -0.660661  0.194581  3.294944   \n2  -1.575241 -1.224910  0.885278  0.016614 -0.227102  1.519832  0.123560   \n3   0.982496 -0.585827  0.885278  0.714421  2.114115  0.857206  0.988483   \n4   0.982496  0.213028 -0.337804  0.016614  2.027403  0.194581  0.123560   \n5   0.982496  1.171653  0.885278  3.156744  0.293168  0.194581  0.267714   \n6   0.470948  2.130279 -1.316269 -0.332289 -1.441066 -0.799358 -1.173824   \n7  -0.552146  0.213028  0.885278 -1.030096  0.553303 -0.799358 -0.597209   \n8  -0.040599  1.650966  0.885278 -1.030096 -0.487237 -1.351546  0.123560   \n9   0.470948  1.171653 -0.337804  0.714421 -0.660661  0.194581  0.123560   \n10  0.186755  0.213028  0.885278  0.016614  0.813439  0.194581 -0.597209   \n11  0.470948  0.213028  0.885278  0.016614  0.379880  0.194581 -0.597209   \n12  1.209850  0.213028 -1.316269  0.016614  0.640015  0.194581 -1.173824   \n13  1.209850 -1.224910 -1.316269 -1.030096  1.680556 -0.799358 -0.308901   \n14  1.494043  0.213028  0.885278  1.644830 -0.227102 -0.799358 -1.173824   \n15 -0.324792 -1.224910 -1.316269 -1.030096 -1.007508 -1.351546  0.123560   \n16 -1.575241 -1.224910 -1.316269 -1.030096 -1.007508 -0.799358 -0.597209   \n17 -0.552146 -0.266285  0.151429 -1.030096 -1.441066 -0.799358 -1.173824   \n18  0.527787  0.213028  0.885278  0.016614 -0.227102  0.194581  0.988483   \n19 -1.632080  0.213028  0.885278  0.016614 -0.660661  0.194581  0.123560   \n20 -0.097438  0.213028  0.885278 -0.564891 -0.227102  0.194581  0.123560   \n\n       SOR-8     SOR-9 Label  \n0  -0.144164  0.295093     A  \n1  -1.245052 -1.017202     A  \n2  -0.144164  0.586714     A  \n3  -0.144164  1.024145     B  \n4   0.131058  1.024145     B  \n5  -0.144164  1.024145     B  \n6   1.507168 -0.288149     C  \n7  -1.520274 -0.944296     C  \n8  -0.144164 -1.308823     C  \n9   1.507168  0.367998     D  \n10 -0.144164  0.003472     D  \n11  1.507168  0.367998     D  \n12  1.507168  1.680292     E  \n13 -0.969830  1.315766     E  \n14 -0.144164  0.951240     E  \n15  0.131058 -0.944296     J  \n16  0.131058 -0.871391     J  \n17 -1.520274 -0.944296     J  \n18  1.507168  0.003472     K  \n19 -0.144164 -2.329496     K  \n20 -1.520274  0.003472     K  ",
      "text/html": "<div>\n<style scoped>\n    .dataframe tbody tr th:only-of-type {\n        vertical-align: middle;\n    }\n\n    .dataframe tbody tr th {\n        vertical-align: top;\n    }\n\n    .dataframe thead th {\n        text-align: right;\n    }\n</style>\n<table border=\"1\" class=\"dataframe\">\n  <thead>\n    <tr style=\"text-align: right;\">\n      <th></th>\n      <th>SOC-1</th>\n      <th>SOC-2</th>\n      <th>SOC-3</th>\n      <th>SOC-4</th>\n      <th>SOC-5</th>\n      <th>SOC-6</th>\n      <th>SOC-7</th>\n      <th>SOR-1</th>\n      <th>SOR-2</th>\n      <th>SOR-3</th>\n      <th>SOR-4</th>\n      <th>SOR-5</th>\n      <th>SOR-6</th>\n      <th>SOR-7</th>\n      <th>SOR-8</th>\n      <th>SOR-9</th>\n      <th>Label</th>\n    </tr>\n  </thead>\n  <tbody>\n    <tr>\n      <th>0</th>\n      <td>-0.830653</td>\n      <td>-0.454065</td>\n      <td>2.348656</td>\n      <td>1.949170</td>\n      <td>1.874530</td>\n      <td>0.530602</td>\n      <td>-1.025418</td>\n      <td>-1.063694</td>\n      <td>-0.266285</td>\n      <td>-1.316269</td>\n      <td>0.714421</td>\n      <td>-0.227102</td>\n      <td>3.176397</td>\n      <td>0.988483</td>\n      <td>-0.144164</td>\n      <td>0.295093</td>\n      <td>A</td>\n    </tr>\n    <tr>\n      <th>1</th>\n      <td>-0.696470</td>\n      <td>-0.625565</td>\n      <td>0.184629</td>\n      <td>0.742043</td>\n      <td>0.000000</td>\n      <td>-0.139174</td>\n      <td>-1.208424</td>\n      <td>-1.575241</td>\n      <td>-2.023765</td>\n      <td>-1.316269</td>\n      <td>0.016614</td>\n      <td>-0.660661</td>\n      <td>0.194581</td>\n      <td>3.294944</td>\n      <td>-1.245052</td>\n      <td>-1.017202</td>\n      <td>A</td>\n    </tr>\n    <tr>\n      <th>2</th>\n      <td>-0.025559</td>\n      <td>-0.762764</td>\n      <td>0.725636</td>\n      <td>0.412827</td>\n      <td>0.576778</td>\n      <td>-0.382729</td>\n      <td>0.072622</td>\n      <td>-1.575241</td>\n      <td>-1.224910</td>\n      <td>0.885278</td>\n      <td>0.016614</td>\n      <td>-0.227102</td>\n      <td>1.519832</td>\n      <td>0.123560</td>\n      <td>-0.144164</td>\n      <td>0.586714</td>\n      <td>A</td>\n    </tr>\n    <tr>\n      <th>3</th>\n      <td>-0.428106</td>\n      <td>1.089430</td>\n      <td>1.266643</td>\n      <td>0.961521</td>\n      <td>0.576778</td>\n      <td>-0.078286</td>\n      <td>1.719681</td>\n      <td>0.982496</td>\n      <td>-0.585827</td>\n      <td>0.885278</td>\n      <td>0.714421</td>\n      <td>2.114115</td>\n      <td>0.857206</td>\n      <td>0.988483</td>\n      <td>-0.144164</td>\n      <td>1.024145</td>\n      <td>B</td>\n    </tr>\n    <tr>\n      <th>4</th>\n      <td>1.942449</td>\n      <td>-0.591265</td>\n      <td>0.184629</td>\n      <td>0.412827</td>\n      <td>0.576778</td>\n      <td>-0.078286</td>\n      <td>1.414670</td>\n      <td>0.982496</td>\n      <td>0.213028</td>\n      <td>-0.337804</td>\n      <td>0.016614</td>\n      <td>2.027403</td>\n      <td>0.194581</td>\n      <td>0.123560</td>\n      <td>0.131058</td>\n      <td>1.024145</td>\n      <td>B</td>\n    </tr>\n    <tr>\n      <th>5</th>\n      <td>0.376988</td>\n      <td>1.260930</td>\n      <td>0.184629</td>\n      <td>0.303088</td>\n      <td>0.576778</td>\n      <td>-0.078286</td>\n      <td>1.414670</td>\n      <td>0.982496</td>\n      <td>1.171653</td>\n      <td>0.885278</td>\n      <td>3.156744</td>\n      <td>0.293168</td>\n      <td>0.194581</td>\n      <td>0.267714</td>\n      <td>-0.144164</td>\n      <td>1.024145</td>\n      <td>B</td>\n    </tr>\n    <tr>\n      <th>6</th>\n      <td>-0.964835</td>\n      <td>0.472032</td>\n      <td>-0.085874</td>\n      <td>-0.684561</td>\n      <td>1.009362</td>\n      <td>-0.626284</td>\n      <td>0.072622</td>\n      <td>0.470948</td>\n      <td>2.130279</td>\n      <td>-1.316269</td>\n      <td>-0.332289</td>\n      <td>-1.441066</td>\n      <td>-0.799358</td>\n      <td>-1.173824</td>\n      <td>1.507168</td>\n      <td>-0.288149</td>\n      <td>C</td>\n    </tr>\n    <tr>\n      <th>7</th>\n      <td>0.779535</td>\n      <td>-0.694165</td>\n      <td>-0.626881</td>\n      <td>-0.026128</td>\n      <td>-0.720973</td>\n      <td>-0.565396</td>\n      <td>-0.781409</td>\n      <td>-0.552146</td>\n      <td>0.213028</td>\n      <td>0.885278</td>\n      <td>-1.030096</td>\n      <td>0.553303</td>\n      <td>-0.799358</td>\n      <td>-0.597209</td>\n      <td>-1.520274</td>\n      <td>-0.944296</td>\n      <td>C</td>\n    </tr>\n    <tr>\n      <th>8</th>\n      <td>0.555898</td>\n      <td>-0.899964</td>\n      <td>-1.077720</td>\n      <td>-0.684561</td>\n      <td>-0.720973</td>\n      <td>-0.626284</td>\n      <td>0.987655</td>\n      <td>-0.040599</td>\n      <td>1.650966</td>\n      <td>0.885278</td>\n      <td>-1.030096</td>\n      <td>-0.487237</td>\n      <td>-1.351546</td>\n      <td>0.123560</td>\n      <td>-0.144164</td>\n      <td>-1.308823</td>\n      <td>C</td>\n    </tr>\n    <tr>\n      <th>9</th>\n      <td>-0.428106</td>\n      <td>1.260930</td>\n      <td>0.455133</td>\n      <td>-0.026128</td>\n      <td>-0.720973</td>\n      <td>-0.626284</td>\n      <td>0.560639</td>\n      <td>0.470948</td>\n      <td>1.171653</td>\n      <td>-0.337804</td>\n      <td>0.714421</td>\n      <td>-0.660661</td>\n      <td>0.194581</td>\n      <td>0.123560</td>\n      <td>1.507168</td>\n      <td>0.367998</td>\n      <td>D</td>\n    </tr>\n    <tr>\n      <th>10</th>\n      <td>1.718812</td>\n      <td>-0.694165</td>\n      <td>-0.085874</td>\n      <td>-0.684561</td>\n      <td>-0.720973</td>\n      <td>-0.626284</td>\n      <td>1.170661</td>\n      <td>0.186755</td>\n      <td>0.213028</td>\n      <td>0.885278</td>\n      <td>0.016614</td>\n      <td>0.813439</td>\n      <td>0.194581</td>\n      <td>-0.597209</td>\n      <td>-0.144164</td>\n      <td>0.003472</td>\n      <td>D</td>\n    </tr>\n    <tr>\n      <th>11</th>\n      <td>-0.428106</td>\n      <td>1.260930</td>\n      <td>-0.085874</td>\n      <td>0.632304</td>\n      <td>-0.720973</td>\n      <td>-0.626284</td>\n      <td>0.560639</td>\n      <td>0.470948</td>\n      <td>0.213028</td>\n      <td>0.885278</td>\n      <td>0.016614</td>\n      <td>0.379880</td>\n      <td>0.194581</td>\n      <td>-0.597209</td>\n      <td>1.507168</td>\n      <td>0.367998</td>\n      <td>D</td>\n    </tr>\n    <tr>\n      <th>12</th>\n      <td>-0.159741</td>\n      <td>1.260930</td>\n      <td>-0.717049</td>\n      <td>2.278386</td>\n      <td>0.144195</td>\n      <td>-0.626284</td>\n      <td>0.621641</td>\n      <td>1.209850</td>\n      <td>0.213028</td>\n      <td>-1.316269</td>\n      <td>0.016614</td>\n      <td>0.640015</td>\n      <td>0.194581</td>\n      <td>-1.173824</td>\n      <td>1.507168</td>\n      <td>1.680292</td>\n      <td>E</td>\n    </tr>\n    <tr>\n      <th>13</th>\n      <td>1.718812</td>\n      <td>-0.591265</td>\n      <td>1.266643</td>\n      <td>0.303088</td>\n      <td>0.576778</td>\n      <td>-0.626284</td>\n      <td>-0.476398</td>\n      <td>1.209850</td>\n      <td>-1.224910</td>\n      <td>-1.316269</td>\n      <td>-1.030096</td>\n      <td>1.680556</td>\n      <td>-0.799358</td>\n      <td>-0.308901</td>\n      <td>-0.969830</td>\n      <td>1.315766</td>\n      <td>E</td>\n    </tr>\n    <tr>\n      <th>14</th>\n      <td>-0.383378</td>\n      <td>1.089430</td>\n      <td>0.184629</td>\n      <td>-0.245606</td>\n      <td>2.451308</td>\n      <td>-0.626284</td>\n      <td>0.621641</td>\n      <td>1.494043</td>\n      <td>0.213028</td>\n      <td>0.885278</td>\n      <td>1.644830</td>\n      <td>-0.227102</td>\n      <td>-0.799358</td>\n      <td>-1.173824</td>\n      <td>-0.144164</td>\n      <td>0.951240</td>\n      <td>E</td>\n    </tr>\n    <tr>\n      <th>15</th>\n      <td>-1.233200</td>\n      <td>-1.071464</td>\n      <td>-1.438391</td>\n      <td>-0.684561</td>\n      <td>0.144195</td>\n      <td>2.052821</td>\n      <td>-1.025418</td>\n      <td>-0.324792</td>\n      <td>-1.224910</td>\n      <td>-1.316269</td>\n      <td>-1.030096</td>\n      <td>-1.007508</td>\n      <td>-1.351546</td>\n      <td>0.123560</td>\n      <td>0.131058</td>\n      <td>-0.944296</td>\n      <td>J</td>\n    </tr>\n    <tr>\n      <th>16</th>\n      <td>-0.696470</td>\n      <td>-1.242963</td>\n      <td>-1.889230</td>\n      <td>-1.672210</td>\n      <td>-2.018724</td>\n      <td>2.661708</td>\n      <td>-1.574438</td>\n      <td>-1.575241</td>\n      <td>-1.224910</td>\n      <td>-1.316269</td>\n      <td>-1.030096</td>\n      <td>-1.007508</td>\n      <td>-0.799358</td>\n      <td>-0.597209</td>\n      <td>0.131058</td>\n      <td>-0.871391</td>\n      <td>J</td>\n    </tr>\n    <tr>\n      <th>17</th>\n      <td>-1.233200</td>\n      <td>-1.208663</td>\n      <td>-1.438391</td>\n      <td>-1.672210</td>\n      <td>-0.720973</td>\n      <td>2.052821</td>\n      <td>-0.293392</td>\n      <td>-0.552146</td>\n      <td>-0.266285</td>\n      <td>0.151429</td>\n      <td>-1.030096</td>\n      <td>-1.441066</td>\n      <td>-0.799358</td>\n      <td>-1.173824</td>\n      <td>-1.520274</td>\n      <td>-0.944296</td>\n      <td>J</td>\n    </tr>\n    <tr>\n      <th>18</th>\n      <td>-0.428106</td>\n      <td>1.089430</td>\n      <td>1.086307</td>\n      <td>0.303088</td>\n      <td>-0.720973</td>\n      <td>0.104381</td>\n      <td>-0.476398</td>\n      <td>0.527787</td>\n      <td>0.213028</td>\n      <td>0.885278</td>\n      <td>0.016614</td>\n      <td>-0.227102</td>\n      <td>0.194581</td>\n      <td>0.988483</td>\n      <td>1.507168</td>\n      <td>0.003472</td>\n      <td>K</td>\n    </tr>\n    <tr>\n      <th>19</th>\n      <td>1.718812</td>\n      <td>-1.208663</td>\n      <td>-0.626881</td>\n      <td>-0.684561</td>\n      <td>-0.720973</td>\n      <td>-1.235172</td>\n      <td>-1.574438</td>\n      <td>-1.632080</td>\n      <td>0.213028</td>\n      <td>0.885278</td>\n      <td>0.016614</td>\n      <td>-0.660661</td>\n      <td>0.194581</td>\n      <td>0.123560</td>\n      <td>-0.144164</td>\n      <td>-2.329496</td>\n      <td>K</td>\n    </tr>\n    <tr>\n      <th>20</th>\n      <td>-0.875380</td>\n      <td>1.260930</td>\n      <td>0.184629</td>\n      <td>-1.233255</td>\n      <td>-0.720973</td>\n      <td>0.165269</td>\n      <td>-0.781409</td>\n      <td>-0.097438</td>\n      <td>0.213028</td>\n      <td>0.885278</td>\n      <td>-0.564891</td>\n      <td>-0.227102</td>\n      <td>0.194581</td>\n      <td>0.123560</td>\n      <td>-1.520274</td>\n      <td>0.003472</td>\n      <td>K</td>\n    </tr>\n  </tbody>\n</table>\n</div>"
     },
     "execution_count": 14,
     "metadata": {},
     "output_type": "execute_result"
    }
   ],
   "source": [
    "for col in cols:\n",
    "    df_test[col] = (df_test[col] - df_test[col].mean())/df_test[col].std(ddof=0)\n",
    "df_test"
   ],
   "metadata": {
    "collapsed": false,
    "pycharm": {
     "name": "#%%\n"
    }
   }
  },
  {
   "cell_type": "code",
   "execution_count": 14,
   "outputs": [],
   "source": [],
   "metadata": {
    "collapsed": false,
    "pycharm": {
     "name": "#%%\n"
    }
   }
  },
  {
   "cell_type": "code",
   "execution_count": 15,
   "outputs": [
    {
     "data": {
      "text/plain": "SOC-1                     -0.0\nSOC-2                     -0.0\nSOC-3                     -0.0\nSOC-4                      0.0\nSOC-5                     -0.0\nSOC-6                      0.0\nSOC-7                     -0.0\nSOR-1                     -0.0\nSOR-2                     -0.0\nSOR-3                     -0.0\nSOR-4                     -0.0\nSOR-5                     -0.0\nSOR-6                      0.0\nSOR-7                      0.0\nSOR-8                     -0.0\nSOR-9                      0.0\nLabel    AAABBBCCCDDDEEEJJJKKK\ndtype: object"
     },
     "execution_count": 15,
     "metadata": {},
     "output_type": "execute_result"
    }
   ],
   "source": [
    "df_test.sum()"
   ],
   "metadata": {
    "collapsed": false,
    "pycharm": {
     "name": "#%%\n"
    }
   }
  },
  {
   "cell_type": "code",
   "execution_count": 16,
   "outputs": [
    {
     "name": "stdout",
     "output_type": "stream",
     "text": [
      "['A' 'A' 'A' 'B' 'B' 'B' 'C' 'C' 'C' 'D' 'D' 'D' 'E' 'E' 'E' 'J' 'J' 'J'\n",
      " 'K' 'K' 'K']\n",
      "       SOC-1     SOC-2     SOC-3     SOC-4     SOC-5     SOC-6     SOC-7  \\\n",
      "0  -0.830653 -0.454065  2.348656  1.949170  1.874530  0.530602 -1.025418   \n",
      "1  -0.696470 -0.625565  0.184629  0.742043  0.000000 -0.139174 -1.208424   \n",
      "2  -0.025559 -0.762764  0.725636  0.412827  0.576778 -0.382729  0.072622   \n",
      "3  -0.428106  1.089430  1.266643  0.961521  0.576778 -0.078286  1.719681   \n",
      "4   1.942449 -0.591265  0.184629  0.412827  0.576778 -0.078286  1.414670   \n",
      "5   0.376988  1.260930  0.184629  0.303088  0.576778 -0.078286  1.414670   \n",
      "6  -0.964835  0.472032 -0.085874 -0.684561  1.009362 -0.626284  0.072622   \n",
      "7   0.779535 -0.694165 -0.626881 -0.026128 -0.720973 -0.565396 -0.781409   \n",
      "8   0.555898 -0.899964 -1.077720 -0.684561 -0.720973 -0.626284  0.987655   \n",
      "9  -0.428106  1.260930  0.455133 -0.026128 -0.720973 -0.626284  0.560639   \n",
      "10  1.718812 -0.694165 -0.085874 -0.684561 -0.720973 -0.626284  1.170661   \n",
      "11 -0.428106  1.260930 -0.085874  0.632304 -0.720973 -0.626284  0.560639   \n",
      "12 -0.159741  1.260930 -0.717049  2.278386  0.144195 -0.626284  0.621641   \n",
      "13  1.718812 -0.591265  1.266643  0.303088  0.576778 -0.626284 -0.476398   \n",
      "14 -0.383378  1.089430  0.184629 -0.245606  2.451308 -0.626284  0.621641   \n",
      "15 -1.233200 -1.071464 -1.438391 -0.684561  0.144195  2.052821 -1.025418   \n",
      "16 -0.696470 -1.242963 -1.889230 -1.672210 -2.018724  2.661708 -1.574438   \n",
      "17 -1.233200 -1.208663 -1.438391 -1.672210 -0.720973  2.052821 -0.293392   \n",
      "18 -0.428106  1.089430  1.086307  0.303088 -0.720973  0.104381 -0.476398   \n",
      "19  1.718812 -1.208663 -0.626881 -0.684561 -0.720973 -1.235172 -1.574438   \n",
      "20 -0.875380  1.260930  0.184629 -1.233255 -0.720973  0.165269 -0.781409   \n",
      "\n",
      "       SOR-1     SOR-2     SOR-3     SOR-4     SOR-5     SOR-6     SOR-7  \\\n",
      "0  -1.063694 -0.266285 -1.316269  0.714421 -0.227102  3.176397  0.988483   \n",
      "1  -1.575241 -2.023765 -1.316269  0.016614 -0.660661  0.194581  3.294944   \n",
      "2  -1.575241 -1.224910  0.885278  0.016614 -0.227102  1.519832  0.123560   \n",
      "3   0.982496 -0.585827  0.885278  0.714421  2.114115  0.857206  0.988483   \n",
      "4   0.982496  0.213028 -0.337804  0.016614  2.027403  0.194581  0.123560   \n",
      "5   0.982496  1.171653  0.885278  3.156744  0.293168  0.194581  0.267714   \n",
      "6   0.470948  2.130279 -1.316269 -0.332289 -1.441066 -0.799358 -1.173824   \n",
      "7  -0.552146  0.213028  0.885278 -1.030096  0.553303 -0.799358 -0.597209   \n",
      "8  -0.040599  1.650966  0.885278 -1.030096 -0.487237 -1.351546  0.123560   \n",
      "9   0.470948  1.171653 -0.337804  0.714421 -0.660661  0.194581  0.123560   \n",
      "10  0.186755  0.213028  0.885278  0.016614  0.813439  0.194581 -0.597209   \n",
      "11  0.470948  0.213028  0.885278  0.016614  0.379880  0.194581 -0.597209   \n",
      "12  1.209850  0.213028 -1.316269  0.016614  0.640015  0.194581 -1.173824   \n",
      "13  1.209850 -1.224910 -1.316269 -1.030096  1.680556 -0.799358 -0.308901   \n",
      "14  1.494043  0.213028  0.885278  1.644830 -0.227102 -0.799358 -1.173824   \n",
      "15 -0.324792 -1.224910 -1.316269 -1.030096 -1.007508 -1.351546  0.123560   \n",
      "16 -1.575241 -1.224910 -1.316269 -1.030096 -1.007508 -0.799358 -0.597209   \n",
      "17 -0.552146 -0.266285  0.151429 -1.030096 -1.441066 -0.799358 -1.173824   \n",
      "18  0.527787  0.213028  0.885278  0.016614 -0.227102  0.194581  0.988483   \n",
      "19 -1.632080  0.213028  0.885278  0.016614 -0.660661  0.194581  0.123560   \n",
      "20 -0.097438  0.213028  0.885278 -0.564891 -0.227102  0.194581  0.123560   \n",
      "\n",
      "       SOR-8     SOR-9  \n",
      "0  -0.144164  0.295093  \n",
      "1  -1.245052 -1.017202  \n",
      "2  -0.144164  0.586714  \n",
      "3  -0.144164  1.024145  \n",
      "4   0.131058  1.024145  \n",
      "5  -0.144164  1.024145  \n",
      "6   1.507168 -0.288149  \n",
      "7  -1.520274 -0.944296  \n",
      "8  -0.144164 -1.308823  \n",
      "9   1.507168  0.367998  \n",
      "10 -0.144164  0.003472  \n",
      "11  1.507168  0.367998  \n",
      "12  1.507168  1.680292  \n",
      "13 -0.969830  1.315766  \n",
      "14 -0.144164  0.951240  \n",
      "15  0.131058 -0.944296  \n",
      "16  0.131058 -0.871391  \n",
      "17 -1.520274 -0.944296  \n",
      "18  1.507168  0.003472  \n",
      "19 -0.144164 -2.329496  \n",
      "20 -1.520274  0.003472  \n"
     ]
    }
   ],
   "source": [
    "Y_test=df_test[\"Label\"].values\n",
    "print(Y_test)\n",
    "X_test= df_test[cols]\n",
    "print(X_test)"
   ],
   "metadata": {
    "collapsed": false,
    "pycharm": {
     "name": "#%%\n"
    }
   }
  },
  {
   "cell_type": "code",
   "execution_count": 17,
   "outputs": [
    {
     "data": {
      "text/plain": "(array([[ 0.,  2.,  5.,  6.,  2.,  2.,  0.,  4.,  0.,  0.],\n        [ 0.,  3.,  5.,  4.,  1.,  0.,  8.,  0.,  0.,  0.],\n        [ 1.,  2.,  2.,  5.,  6.,  1.,  3.,  0.,  1.,  0.],\n        [ 0.,  3.,  5.,  1.,  7.,  3.,  0.,  1.,  1.,  0.],\n        [ 1.,  0.,  9.,  0.,  3.,  6.,  0.,  1.,  1.,  0.],\n        [ 0.,  1.,  0., 11.,  5.,  1.,  0.,  2.,  1.,  0.],\n        [ 0.,  3.,  4.,  3.,  2.,  5.,  3.,  1.,  0.,  0.],\n        [ 0.,  4.,  1.,  4.,  5.,  4.,  3.,  0.,  0.,  0.],\n        [ 1.,  4.,  0.,  3.,  9.,  0.,  2.,  2.,  0.,  0.],\n        [ 0.,  7.,  0.,  2.,  1., 11.,  0.,  0.,  0.,  0.],\n        [ 0.,  0.,  6.,  2.,  8.,  3.,  0.,  1.,  0.,  1.],\n        [ 0.,  2.,  5.,  6.,  2.,  3.,  0.,  3.,  0.,  0.],\n        [ 0.,  2.,  6.,  0., 10.,  1.,  1.,  0.,  0.,  1.],\n        [ 0.,  0.,  4.,  5.,  8.,  3.,  0.,  0.,  0.,  1.],\n        [ 0.,  4.,  1.,  8.,  3.,  0.,  5.,  0.,  0.,  0.],\n        [ 1.,  1.,  5.,  1.,  6.,  5.,  1.,  1.,  0.,  0.]]),\n array([-2.32949603, -1.767052  , -1.20460796, -0.64216392, -0.07971988,\n         0.48272415,  1.04516819,  1.60761223,  2.17005626,  2.7325003 ,\n         3.29494434]),\n <a list of 16 BarContainer objects>)"
     },
     "execution_count": 17,
     "metadata": {},
     "output_type": "execute_result"
    },
    {
     "data": {
      "text/plain": "<Figure size 640x480 with 1 Axes>",
      "image/png": "[encoded data removed]"
     },
     "metadata": {},
     "output_type": "display_data"
    }
   ],
   "source": [
    "plt.hist(X_test)"
   ],
   "metadata": {
    "collapsed": false,
    "pycharm": {
     "name": "#%%\n"
    }
   }
  },
  {
   "cell_type": "code",
   "execution_count": 18,
   "outputs": [
    {
     "data": {
      "text/plain": "array(['A', 'A', 'A', 'B', 'B', 'B', 'C', 'C', 'C', 'D', 'D', 'D', 'E',\n       'E', 'E', 'J', 'J', 'J', 'K', 'K', 'K'], dtype=object)"
     },
     "execution_count": 18,
     "metadata": {},
     "output_type": "execute_result"
    }
   ],
   "source": [
    "yhat = neigh.predict(X_test)\n",
    "yhat"
   ],
   "metadata": {
    "collapsed": false,
    "pycharm": {
     "name": "#%%\n"
    }
   }
  },
  {
   "cell_type": "code",
   "execution_count": 19,
   "outputs": [
    {
     "name": "stdout",
     "output_type": "stream",
     "text": [
      "Test set Accuracy:  1.0\n"
     ]
    }
   ],
   "source": [
    "print(\"Test set Accuracy: \", metrics.accuracy_score(Y_test, yhat))"
   ],
   "metadata": {
    "collapsed": false,
    "pycharm": {
     "name": "#%%\n"
    }
   }
  },
  {
   "cell_type": "code",
   "execution_count": 20,
   "outputs": [
    {
     "data": {
      "text/plain": "array([1.        , 0.71428571, 0.76190476, 0.71428571, 0.61904762,\n       0.57142857, 0.47619048, 0.38095238, 0.52380952, 0.52380952,\n       0.38095238, 0.38095238, 0.38095238, 0.38095238])"
     },
     "execution_count": 20,
     "metadata": {},
     "output_type": "execute_result"
    }
   ],
   "source": [
    "Ks = 15\n",
    "mean_acc = np.zeros((Ks-1))\n",
    "std_acc = np.zeros((Ks-1))\n",
    "\n",
    "for n in range(1,Ks):\n",
    "    #Train Model and Predict\n",
    "    neigh = KNeighborsClassifier(n_neighbors = n).fit(X_train,Y_train)\n",
    "    yhat=neigh.predict(X_test)\n",
    "    mean_acc[n-1] = metrics.accuracy_score(Y_test, yhat)\n",
    "    std_acc[n-1]=np.std(yhat==Y_test)/np.sqrt(yhat.shape[0])\n",
    "\n",
    "mean_acc"
   ],
   "metadata": {
    "collapsed": false,
    "pycharm": {
     "name": "#%%\n"
    }
   }
  },
  {
   "cell_type": "code",
   "execution_count": 21,
   "outputs": [
    {
     "data": {
      "text/plain": "<Figure size 640x480 with 1 Axes>",
      "image/png": "[encoded data removed]"
     },
     "metadata": {},
     "output_type": "display_data"
    }
   ],
   "source": [
    "plt.plot(range(1,Ks),mean_acc,'g')\n",
    "plt.fill_between(range(1,Ks),mean_acc - 1 * std_acc,mean_acc + 1 * std_acc, alpha=0.10)\n",
    "plt.fill_between(range(1,Ks),mean_acc - 3 * std_acc,mean_acc + 3 * std_acc, alpha=0.10,color=\"green\")\n",
    "plt.legend(('Accuracy ', '+/- 1xstd','+/- 3xstd'))\n",
    "plt.ylabel('Accuracy ')\n",
    "plt.xlabel('Number of Neighbors (K)')\n",
    "plt.tight_layout()\n",
    "plt.show()"
   ],
   "metadata": {
    "collapsed": false,
    "pycharm": {
     "name": "#%%\n"
    }
   }
  },
  {
   "cell_type": "code",
   "execution_count": 24,
   "outputs": [
    {
     "name": "stdout",
     "output_type": "stream",
     "text": [
      "The best accuracy was with 1.0 with k= 1\n"
     ]
    }
   ],
   "source": [
    "print( \"The best accuracy was with\", mean_acc.max(), \"with k=\", mean_acc.argmax()+1)"
   ],
   "metadata": {
    "collapsed": false,
    "pycharm": {
     "name": "#%%\n"
    }
   }
  },
  {
   "cell_type": "code",
   "execution_count": 44,
   "outputs": [
    {
     "name": "stdout",
     "output_type": "stream",
     "text": [
      "Recall: 1.0\n"
     ]
    }
   ],
   "source": [
    "k = 1\n",
    "neigh = KNeighborsClassifier(n_neighbors = k).fit(X_train,Y_train)\n",
    "yhat = neigh.predict(X_test)\n",
    "recall = recall_score(Y_test, yhat, average='weighted')\n",
    "print(f'Recall: {recall}')"
   ],
   "metadata": {
    "collapsed": false,
    "pycharm": {
     "name": "#%%\n"
    }
   }
  },
  {
   "cell_type": "code",
   "execution_count": 45,
   "outputs": [
    {
     "name": "stdout",
     "output_type": "stream",
     "text": [
      "F-Measure: 1.0\n"
     ]
    }
   ],
   "source": [
    "f1=f1_score(Y_test, yhat, average='weighted')\n",
    "print(f'F-Measure: {f1}')"
   ],
   "metadata": {
    "collapsed": false,
    "pycharm": {
     "name": "#%%\n"
    }
   }
  },
  {
   "cell_type": "code",
   "execution_count": 46,
   "outputs": [
    {
     "name": "stdout",
     "output_type": "stream",
     "text": [
      "Precision: 1.0\n"
     ]
    }
   ],
   "source": [
    "precision = precision_score(Y_test, yhat, average='weighted')\n",
    "print(f'Precision: {precision}')"
   ],
   "metadata": {
    "collapsed": false,
    "pycharm": {
     "name": "#%%\n"
    }
   }
  },
  {
   "cell_type": "code",
   "execution_count": null,
   "outputs": [],
   "source": [],
   "metadata": {
    "collapsed": false,
    "pycharm": {
     "name": "#%%\n"
    }
   }
  }
 ],
 "metadata": {
  "kernelspec": {
   "display_name": "Python 3",
   "language": "python",
   "name": "python3"
  },
  "language_info": {
   "codemirror_mode": {
    "name": "ipython",
    "version": 2
   },
   "file_extension": ".py",
   "mimetype": "text/x-python",
   "name": "python",
   "nbconvert_exporter": "python",
   "pygments_lexer": "ipython2",
   "version": "2.7.6"
  }
 },
 "nbformat": 4,
 "nbformat_minor": 0
}